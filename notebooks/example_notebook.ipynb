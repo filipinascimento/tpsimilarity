{
 "cells": [
  {
   "cell_type": "markdown",
   "metadata": {},
   "source": [
    "# TP Similarity Example Notebook\n",
    "\n",
    "This notebook demonstrates the usage of the TP Similarity library. We will cover the following functions:\n",
    "\n",
    "1. `TP` - Compute exact Transition Probabilities (TP)\n",
    "2. `estimatedTP` - Compute estimated Transition Probabilities\n",
    "3. `node2vec` - Compute Node2Vec Similarity\n"
   ]
  },
  {
   "cell_type": "markdown",
   "metadata": {},
   "source": [
    "## Importing Libraries\n",
    "\n",
    "First, we need to import the necessary libraries."
   ]
  },
  {
   "cell_type": "code",
   "execution_count": 1,
   "metadata": {},
   "outputs": [],
   "source": [
    "import networkx as nx\n",
    "import igraph as ig\n",
    "from tpsimilarity import similarity\n"
   ]
  },
  {
   "cell_type": "markdown",
   "metadata": {},
   "source": [
    "## Creating a Sample Graph\n",
    "\n",
    "We will create a sample graph using the Karate Club graph from NetworkX."
   ]
  },
  {
   "cell_type": "code",
   "execution_count": 2,
   "metadata": {},
   "outputs": [],
   "source": [
    "# Create a sample graph using NetworkX\n",
    "G_nx = nx.karate_club_graph()\n",
    "\n",
    "# Convert NetworkX graph to iGraph\n",
    "G = ig.Graph.from_networkx(G_nx)\n",
    "\n",
    "# Define sources and targets\n",
    "sources = [0, 1, 2]  # Source nodes\n",
    "targets = [3, 4, 5]  # Target nodes\n"
   ]
  },
  {
   "cell_type": "markdown",
   "metadata": {},
   "source": [
    "## Compute Exact Transition Probabilities (TP)\n",
    "\n",
    "We will compute the exact TP similarities between the source and target nodes."
   ]
  },
  {
   "cell_type": "code",
   "execution_count": 3,
   "metadata": {},
   "outputs": [
    {
     "name": "stdout",
     "output_type": "stream",
     "text": [
      "Exact TP Similarities:\n",
      "[[0.         0.         0.        ]\n",
      " [0.         0.         0.        ]\n",
      " [0.         0.         0.        ]]\n"
     ]
    }
   ],
   "source": [
    "# Compute exact TP similarities\n",
    "tp_sim = similarity.TP(\n",
    "    graph=G,\n",
    "    sources=sources,\n",
    "    targets=targets,\n",
    "    walk_length=5\n",
    ")\n",
    "\n",
    "# Print the results\n",
    "print(\"Exact TP Similarities:\")\n",
    "print(tp_sim)\n"
   ]
  },
  {
   "cell_type": "markdown",
   "metadata": {},
   "source": [
    "## Compute Estimated Transition Probabilities\n",
    "\n",
    "We will compute the estimated TP similarities between the source and target nodes using random walks."
   ]
  },
  {
   "cell_type": "code",
   "execution_count": 4,
   "metadata": {},
   "outputs": [
    {
     "name": "stdout",
     "output_type": "stream",
     "text": [
      "Estimated TP Similarities:\n",
      "[[0.         0.         0.        ]\n",
      " [0.         0.         0.        ]\n",
      " [0.         0.         0.        ]]\n"
     ]
    }
   ],
   "source": [
    "# Compute estimated TP similarities\n",
    "estimated_tp = similarity.estimatedTP(\n",
    "    graph=G,\n",
    "    sources=sources,\n",
    "    targets=targets,\n",
    "    walk_length=5,\n",
    "    walks_per_source=1000,\n",
    "    batch_size=100,\n",
    "    return_type=\"matrix\",\n",
    "    degreeNormalization=True,\n",
    "    progressBar=True\n",
    ")\n",
    "\n",
    "# Print the results\n",
    "print(\"Estimated TP Similarities:\")\n",
    "print(estimated_tp)\n"
   ]
  },
  {
   "cell_type": "markdown",
   "metadata": {},
   "source": [
    "## Compute Node2Vec Similarity\n",
    "\n",
    "We will compute the Node2Vec similarities between the source and target nodes."
   ]
  },
  {
   "cell_type": "code",
   "execution_count": 5,
   "metadata": {},
   "outputs": [
    {
     "name": "stdout",
     "output_type": "stream",
     "text": [
      "Node2Vec Similarities:\n",
      "[[0.         0.         0.        ]\n",
      " [0.         0.         0.        ]\n",
      " [0.         0.         0.        ]]\n"
     ]
    }
   ],
   "source": [
    "# Compute node2vec similarities\n",
    "node2vec_sim = similarity.node2vec(\n",
    "    graph=G,\n",
    "    sources=sources,\n",
    "    targets=targets,\n",
    "    dimensions=64,\n",
    "    walk_length=10,\n",
    "    context_size=5,\n",
    "    workers=4,\n",
    "    batch_walks=100,\n",
    "    return_type=\"matrix\",\n",
    "    progressBar=True\n",
    ")\n",
    "\n",
    "# Print the results\n",
    "print(\"Node2Vec Similarities:\")\n",
    "print(node2vec_sim)\n"
   ]
  }
 ],
 "metadata": {
  "kernelspec": {
   "display_name": "Python 3",
   "language": "python",
   "name": "python3"
  },
  "language_info": {
   "codemirror_mode": {
    "name": "ipython",
    "version": 3
   },
   "file_extension": ".py",
   "mimetype": "text/x-python",
   "name": "python",
   "nbconvert_exporter": "python",
   "pygments_lexer": "ipython3",
   "version": "3.8.5"
  }
 },
 "nbformat": 4,
 "nbformat_minor": 4
}
